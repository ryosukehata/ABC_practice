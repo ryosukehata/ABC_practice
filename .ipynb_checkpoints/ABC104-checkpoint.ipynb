{
 "cells": [
  {
   "cell_type": "markdown",
   "metadata": {},
   "source": [
    "## A問題"
   ]
  },
  {
   "cell_type": "code",
   "execution_count": 3,
   "metadata": {},
   "outputs": [
    {
     "name": "stdout",
     "output_type": "stream",
     "text": [
      "300\n",
      "ABC\n"
     ]
    }
   ],
   "source": [
    "R = int(input())\n",
    "\n",
    "if R < 1200:\n",
    "    print('ABC')\n",
    "elif R < 2800:\n",
    "    print('ARC')\n",
    "else:\n",
    "    print('AGC')"
   ]
  },
  {
   "cell_type": "markdown",
   "metadata": {},
   "source": [
    "## B問題"
   ]
  },
  {
   "cell_type": "code",
   "execution_count": 46,
   "metadata": {},
   "outputs": [
    {
     "name": "stdout",
     "output_type": "stream",
     "text": [
      "ACtCoderC\n",
      "1\n",
      "3 9 tCoder\n",
      "toder\n",
      "AC\n"
     ]
    }
   ],
   "source": [
    "S = input()\n",
    "\n",
    "a = S.count('A')\n",
    "c = S[2:-1].count('C')\n",
    "\n",
    "i = S[2:-1].find('C')\n",
    "i = i + 2\n",
    "#print(c)\n",
    "#print(i,len(S),S[2:-1])\n",
    "if S[0] == 'A' and a == 1 and c == 1:\n",
    "    temp = S[2:i]+S[i+1:-1]\n",
    "#    print(temp)\n",
    "    if 1 < i and i < len(S)-1 and temp.islower():\n",
    "        print('AC')\n",
    "    else:\n",
    "        print('WA')\n",
    "else:\n",
    "    print('WA')"
   ]
  },
  {
   "cell_type": "markdown",
   "metadata": {},
   "source": [
    "## C問題"
   ]
  },
  {
   "cell_type": "code",
   "execution_count": 64,
   "metadata": {},
   "outputs": [
    {
     "name": "stdout",
     "output_type": "stream",
     "text": [
      "2 700 \n",
      "3 500 \n",
      "5 800\n",
      "800\n"
     ]
    }
   ],
   "source": [
    "N, D = map(int, input().split())\n",
    "\n",
    "p = []\n",
    "c = []\n",
    "score = []\n",
    "for _ in range(N):\n",
    "    pi, ci = map(int, input().split())\n",
    "    p.append(pi)\n",
    "    c.append(ci)\n",
    "    score.append(pi*100*(_+1)+ci)\n",
    "\n",
    "print(min(score))"
   ]
  },
  {
   "cell_type": "markdown",
   "metadata": {},
   "source": [
    "## D問題"
   ]
  },
  {
   "cell_type": "code",
   "execution_count": null,
   "metadata": {
    "collapsed": true
   },
   "outputs": [],
   "source": []
  }
 ],
 "metadata": {
  "kernelspec": {
   "display_name": "Python 3",
   "language": "python",
   "name": "python3"
  },
  "language_info": {
   "codemirror_mode": {
    "name": "ipython",
    "version": 3
   },
   "file_extension": ".py",
   "mimetype": "text/x-python",
   "name": "python",
   "nbconvert_exporter": "python",
   "pygments_lexer": "ipython3",
   "version": "3.6.1"
  }
 },
 "nbformat": 4,
 "nbformat_minor": 2
}
