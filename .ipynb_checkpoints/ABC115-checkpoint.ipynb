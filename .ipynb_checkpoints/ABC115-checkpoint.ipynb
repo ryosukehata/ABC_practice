{
 "cells": [
  {
   "cell_type": "markdown",
   "metadata": {},
   "source": [
    "# A問題"
   ]
  },
  {
   "cell_type": "code",
   "execution_count": null,
   "metadata": {},
   "outputs": [],
   "source": [
    "D = int(input())\n",
    "\n",
    "if D == 25:\n",
    "    print(\"Christmas\")\n",
    "elif D == 24:\n",
    "    print(\"Christmas Eve\")\n",
    "elif D == 23:\n",
    "    print(\"Christmas Eve Eve\")\n",
    "elif D == 22:\n",
    "    print(\"Christmas Eve Eve Eve\")"
   ]
  },
  {
   "cell_type": "markdown",
   "metadata": {},
   "source": [
    "# B問題"
   ]
  },
  {
   "cell_type": "code",
   "execution_count": 2,
   "metadata": {},
   "outputs": [
    {
     "name": "stdout",
     "output_type": "stream",
     "text": [
      "3\n",
      " 4980\n",
      " 7980\n",
      " 6980\n",
      "15950\n"
     ]
    }
   ],
   "source": [
    "N = int(input())\n",
    "data_list = []\n",
    "for i in range(N):\n",
    "    data = int(input())\n",
    "    data_list.append(data)\n",
    "data_list.sort()\n",
    "data_list[-1] = int(data_list[-1]/2)\n",
    "\n",
    "print(sum(data_list))"
   ]
  },
  {
   "cell_type": "markdown",
   "metadata": {},
   "source": [
    "# C問題"
   ]
  },
  {
   "cell_type": "code",
   "execution_count": null,
   "metadata": {},
   "outputs": [],
   "source": [
    "N, K = map(int, input().split())\n",
    "\n",
    "data_list = []\n",
    "for i in range(N):\n",
    "    data = int(input())\n",
    "    data_list.append(data)\n",
    "data_list.sort()\n",
    "\n",
    "result = 9999999999999999\n",
    "for i in range(N-K+1):\n",
    "    temp = data_list[i+K-1] - data_list[i]\n",
    "    result = min(result, temp)\n",
    "print(result)\n"
   ]
  },
  {
   "cell_type": "markdown",
   "metadata": {},
   "source": [
    "# D問題"
   ]
  },
  {
   "cell_type": "code",
   "execution_count": null,
   "metadata": {},
   "outputs": [],
   "source": []
  }
 ],
 "metadata": {
  "kernelspec": {
   "display_name": "Python 3",
   "language": "python",
   "name": "python3"
  },
  "language_info": {
   "codemirror_mode": {
    "name": "ipython",
    "version": 3
   },
   "file_extension": ".py",
   "mimetype": "text/x-python",
   "name": "python",
   "nbconvert_exporter": "python",
   "pygments_lexer": "ipython3",
   "version": "3.6.6"
  }
 },
 "nbformat": 4,
 "nbformat_minor": 2
}
