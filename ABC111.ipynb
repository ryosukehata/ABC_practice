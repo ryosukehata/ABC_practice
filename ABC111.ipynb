{
 "cells": [
  {
   "cell_type": "markdown",
   "metadata": {},
   "source": [
    "# A問題"
   ]
  },
  {
   "cell_type": "code",
   "execution_count": 13,
   "metadata": {},
   "outputs": [
    {
     "name": "stdout",
     "output_type": "stream",
     "text": [
      "999\n",
      "111\n"
     ]
    }
   ],
   "source": [
    "N = str(input())\n",
    "print(N.replace('1','4').replace('9','1').replace('4','9'))"
   ]
  },
  {
   "cell_type": "markdown",
   "metadata": {},
   "source": [
    "# B問題"
   ]
  },
  {
   "cell_type": "code",
   "execution_count": 129,
   "metadata": {},
   "outputs": [
    {
     "name": "stdout",
     "output_type": "stream",
     "text": [
      "220\n",
      "222\n"
     ]
    }
   ],
   "source": [
    "n = input()\n",
    "\n",
    "if int(n[0]) <= int(n[1]):\n",
    "    if int(n[0]) == int(n[1]) and int(n[0]) >= int(n[2]):\n",
    "        temp=int(n[0])\n",
    "        print(temp*100+temp*10+temp)\n",
    "    else:\n",
    "        temp=int(n[0])+1\n",
    "        print(temp*100+temp*10+temp)\n",
    "else:\n",
    "    temp=int(n[0])\n",
    "    print(temp*100+temp*10+temp)"
   ]
  },
  {
   "cell_type": "code",
   "execution_count": 123,
   "metadata": {},
   "outputs": [
    {
     "name": "stdout",
     "output_type": "stream",
     "text": [
      "2 2\n"
     ]
    }
   ],
   "source": [
    "print(n[0],n[1])"
   ]
  },
  {
   "cell_type": "markdown",
   "metadata": {},
   "source": [
    "# C問題"
   ]
  },
  {
   "cell_type": "code",
   "execution_count": 171,
   "metadata": {},
   "outputs": [
    {
     "name": "stdout",
     "output_type": "stream",
     "text": [
      "6\n",
      "1 2 3 4 1 2 3 4\n",
      "4\n"
     ]
    }
   ],
   "source": [
    "def cal_uniq_num(input_list):\n",
    "    unq_list=set(input_list)\n",
    "    duplicate=[]\n",
    "    for x in unq_list:\n",
    "        duplicate.append(input_list.count(x))\n",
    "    duplicate.sort()\n",
    "    return sum(duplicate[:-1])\n",
    "\n",
    "n = int(input())\n",
    "v = list(map(int, input().split()))\n",
    "\n",
    "if len(set(v)) == 1:\n",
    "    print(int(n/2))\n",
    "\n",
    "else:\n",
    "    odd = v[0::2]\n",
    "    even = v[1::2]\n",
    "\n",
    "    ans = cal_uniq_num(odd)+cal_uniq_num(even)\n",
    "    print(ans)"
   ]
  },
  {
   "cell_type": "code",
   "execution_count": 191,
   "metadata": {},
   "outputs": [
    {
     "name": "stdout",
     "output_type": "stream",
     "text": [
      "6\n",
      "1 2 3 4 1 2 3 4 1 2 3 4\n",
      "6\n"
     ]
    }
   ],
   "source": [
    "import collections\n",
    "\n",
    "n = int(input())\n",
    "v = list(map(int, input().split()))\n",
    "\n",
    "if len(set(v)) == 1:\n",
    "    print(int(n/2))\n",
    "\n",
    "else:\n",
    "    odd = v[0::2]\n",
    "    even = v[1::2]\n",
    "    if len(set(odd)) > 1:\n",
    "        odd_c = collections.Counter(odd).most_common()[1:]\n",
    "        values, odd_counts = zip(*odd_c)\n",
    "    else:\n",
    "        odd_counts=len(odd)\n",
    "        \n",
    "    if len(set(even)) > 1:\n",
    "        even_c = collections.Counter(even).most_common()[1:]\n",
    "        values, even_counts = zip(*even_c)\n",
    "    else:\n",
    "        even_counts=len(even)\n",
    "        \n",
    "    print(sum(odd_counts)+sum(even_counts))"
   ]
  },
  {
   "cell_type": "code",
   "execution_count": 190,
   "metadata": {},
   "outputs": [
    {
     "name": "stdout",
     "output_type": "stream",
     "text": [
      "3\n"
     ]
    }
   ],
   "source": [
    "import collections\n",
    "odd = v[0::2]\n",
    "even = v[1::2]\n",
    "odd_c = collections.Counter(odd).most_common()[1:]\n",
    "even_c = collections.Counter(even).most_common()[1:]\n",
    "\n",
    "values, odd_counts = zip(*odd_c)\n",
    "values, even_counts = zip(*even_c)\n",
    "\n",
    "print(sum(odd_counts)+sum(even_counts))"
   ]
  },
  {
   "cell_type": "code",
   "execution_count": 187,
   "metadata": {},
   "outputs": [
    {
     "name": "stdout",
     "output_type": "stream",
     "text": [
      "[(1, 2), (2, 1)] [(4, 3)]\n"
     ]
    }
   ],
   "source": [
    "print(odd_c,even_c)"
   ]
  },
  {
   "cell_type": "code",
   "execution_count": 178,
   "metadata": {},
   "outputs": [
    {
     "name": "stdout",
     "output_type": "stream",
     "text": [
      "6\n",
      "1 2 3 4 1 2 3 4 2 2 3 4\n"
     ]
    }
   ],
   "source": [
    "n = int(input())\n",
    "v = list(map(int, input().split()))"
   ]
  },
  {
   "cell_type": "code",
   "execution_count": 204,
   "metadata": {},
   "outputs": [
    {
     "name": "stdout",
     "output_type": "stream",
     "text": [
      "4\n",
      "1 2 1 2\n",
      "4\n"
     ]
    }
   ],
   "source": [
    "import collections\n",
    "\n",
    "n = int(input())\n",
    "v = list(map(int, input().split()))\n",
    "odd_num, even_num = 0,0\n",
    "\n",
    "if len(set(v)) == 1:\n",
    "    print(int(n/2))\n",
    "\n",
    "else:\n",
    "    odd = v[0::2]\n",
    "    even = v[1::2]\n",
    "    odd_c = collections.Counter(odd).most_common()#[1:]\n",
    "    even_c = collections.Counter(even).most_common()#[1:]\n",
    "    if odd_c[0][0]!=even_c[0][0]:\n",
    "        if len(odd_c) != 1:\n",
    "            values, odd_counts = zip(*odd_c)\n",
    "            odd_num=sum(odd_counts[1:])\n",
    "        if len(odd_c) != 1:        \n",
    "            values, even_counts = zip(*even_c)\n",
    "            even_num=sum(even_counts[1:])        \n",
    "    else:\n",
    "        if odd_c[0][1] >= even_c[0][1]:\n",
    "            if len(odd_c) != 1:\n",
    "            values, odd_counts = zip(*odd_c)\n",
    "            odd_num=sum(odd_counts[1:])\n",
    "\n",
    "        \n",
    "    print(odd_num+even_num)"
   ]
  },
  {
   "cell_type": "code",
   "execution_count": 206,
   "metadata": {},
   "outputs": [
    {
     "data": {
      "text/plain": [
       "1"
      ]
     },
     "execution_count": 206,
     "metadata": {},
     "output_type": "execute_result"
    }
   ],
   "source": [
    "len(odd_c)"
   ]
  },
  {
   "cell_type": "code",
   "execution_count": null,
   "metadata": {
    "collapsed": true
   },
   "outputs": [],
   "source": []
  }
 ],
 "metadata": {
  "kernelspec": {
   "display_name": "Python 3",
   "language": "python",
   "name": "python3"
  },
  "language_info": {
   "codemirror_mode": {
    "name": "ipython",
    "version": 3
   },
   "file_extension": ".py",
   "mimetype": "text/x-python",
   "name": "python",
   "nbconvert_exporter": "python",
   "pygments_lexer": "ipython3",
   "version": "3.6.6"
  }
 },
 "nbformat": 4,
 "nbformat_minor": 2
}
