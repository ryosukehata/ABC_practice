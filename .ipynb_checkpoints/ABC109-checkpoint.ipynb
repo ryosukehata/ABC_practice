{
 "cells": [
  {
   "cell_type": "markdown",
   "metadata": {},
   "source": [
    "# A問題"
   ]
  },
  {
   "cell_type": "code",
   "execution_count": 2,
   "metadata": {},
   "outputs": [
    {
     "name": "stdout",
     "output_type": "stream",
     "text": [
      "1 3\n",
      "No\n"
     ]
    }
   ],
   "source": [
    "A, B = map(int, input().split())\n",
    "print('No' if A*B % 2 == 0 else 'Yes')"
   ]
  },
  {
   "cell_type": "markdown",
   "metadata": {},
   "source": [
    "# B問題"
   ]
  },
  {
   "cell_type": "code",
   "execution_count": 33,
   "metadata": {},
   "outputs": [
    {
     "name": "stdout",
     "output_type": "stream",
     "text": [
      "2\n",
      "aa\n",
      "1 0 aa\n",
      "2\n",
      "aa\n",
      "aa\n",
      "ab\n",
      "1 aa ab\n",
      "2\n",
      "ab\n",
      "ab\n",
      "Yes\n"
     ]
    }
   ],
   "source": [
    "N = int(input())\n",
    "\n",
    "already_list=[]\n",
    "w=0\n",
    "for i in range(N):\n",
    "    W = input()\n",
    "    if W not in already_list:\n",
    "#        print('1',w,W)\n",
    "        if w==0 or w[-1]==W[0]:\n",
    "#            print('2')\n",
    "            already_list.append(W)\n",
    "            w=W\n",
    "#            print(w)\n",
    "#            print(W)\n",
    "\n",
    "if len(already_list) == N:\n",
    "    print('Yes')\n",
    "else:\n",
    "    print('No')"
   ]
  },
  {
   "cell_type": "code",
   "execution_count": 26,
   "metadata": {},
   "outputs": [
    {
     "data": {
      "text/plain": [
       "['aa', 'bb']"
      ]
     },
     "execution_count": 26,
     "metadata": {},
     "output_type": "execute_result"
    }
   ],
   "source": [
    "already_list"
   ]
  },
  {
   "cell_type": "markdown",
   "metadata": {},
   "source": [
    "# C問題"
   ]
  },
  {
   "cell_type": "code",
   "execution_count": 56,
   "metadata": {},
   "outputs": [
    {
     "name": "stdout",
     "output_type": "stream",
     "text": [
      "3 3\n",
      "1 7 11\n"
     ]
    }
   ],
   "source": [
    "N, X =map(int, input().split())\n",
    "x = list(map(int, input().split()))"
   ]
  },
  {
   "cell_type": "code",
   "execution_count": 57,
   "metadata": {},
   "outputs": [
    {
     "name": "stdout",
     "output_type": "stream",
     "text": [
      "[1, 7, 11]\n"
     ]
    }
   ],
   "source": [
    "print(x)"
   ]
  },
  {
   "cell_type": "code",
   "execution_count": 58,
   "metadata": {},
   "outputs": [],
   "source": [
    "x.append(X)"
   ]
  },
  {
   "cell_type": "code",
   "execution_count": 59,
   "metadata": {},
   "outputs": [
    {
     "data": {
      "text/plain": [
       "[1, 7, 11, 3]"
      ]
     },
     "execution_count": 59,
     "metadata": {},
     "output_type": "execute_result"
    }
   ],
   "source": [
    "x"
   ]
  },
  {
   "cell_type": "code",
   "execution_count": 60,
   "metadata": {},
   "outputs": [],
   "source": [
    "x=sorted(x)"
   ]
  },
  {
   "cell_type": "code",
   "execution_count": 63,
   "metadata": {},
   "outputs": [
    {
     "name": "stdout",
     "output_type": "stream",
     "text": [
      "[2, 4, 4]\n"
     ]
    }
   ],
   "source": [
    "diff=[]\n",
    "\n",
    "for i in range(N):\n",
    "#    print(i,x[i+1],x[i+1]-x[i])\n",
    "    temp=x[i+1]-x[i]\n",
    "    diff.append(temp)\n",
    "    \n",
    "diff=sorted(diff)\n",
    "print(diff)"
   ]
  },
  {
   "cell_type": "code",
   "execution_count": 54,
   "metadata": {},
   "outputs": [
    {
     "data": {
      "text/plain": [
       "[1, 3, 3, 7, 11]"
      ]
     },
     "execution_count": 54,
     "metadata": {},
     "output_type": "execute_result"
    }
   ],
   "source": [
    "x"
   ]
  },
  {
   "cell_type": "code",
   "execution_count": 64,
   "metadata": {
    "collapsed": true
   },
   "outputs": [],
   "source": [
    "def gcd(a, b):\n",
    "    while b:\n",
    "        a, b = b, a % b\n",
    "    return a"
   ]
  },
  {
   "cell_type": "code",
   "execution_count": 72,
   "metadata": {},
   "outputs": [
    {
     "name": "stdout",
     "output_type": "stream",
     "text": [
      "1\n",
      "2\n"
     ]
    }
   ],
   "source": [
    "ans=gcd(diff[0],diff[2])\n",
    "for i in range(1,N):\n",
    "    ans=gcd(ans,diff[i])\n",
    "print(ans)"
   ]
  },
  {
   "cell_type": "code",
   "execution_count": 74,
   "metadata": {},
   "outputs": [
    {
     "name": "stdout",
     "output_type": "stream",
     "text": [
      "2 4\n"
     ]
    }
   ],
   "source": []
  },
  {
   "cell_type": "code",
   "execution_count": 79,
   "metadata": {},
   "outputs": [
    {
     "name": "stdout",
     "output_type": "stream",
     "text": [
      "1 1\n",
      "10000000\n",
      "9999999\n"
     ]
    }
   ],
   "source": [
    "def gcd(a, b):\n",
    "    while b:\n",
    "        a, b = b, a % b\n",
    "    return a\n",
    "\n",
    "N, X =map(int, input().split())\n",
    "x = list(map(int, input().split()))\n",
    "\n",
    "x.append(X)\n",
    "x=sorted(x)\n",
    "\n",
    "diff=[]\n",
    "ans=0\n",
    "\n",
    "for i in range(N):\n",
    "    temp=x[i+1]-x[i]\n",
    "    diff.append(temp)\n",
    "    \n",
    "diff=sorted(diff)\n",
    "\n",
    "\n",
    "if N > 1:\n",
    "    ans=gcd(diff[0],diff[1])\n",
    "    for i in range(1,N):\n",
    "        ans=gcd(ans,diff[i])\n",
    "    print(ans)\n",
    "else:\n",
    "    print(diff[0])"
   ]
  },
  {
   "cell_type": "code",
   "execution_count": null,
   "metadata": {
    "collapsed": true
   },
   "outputs": [],
   "source": []
  },
  {
   "cell_type": "code",
   "execution_count": null,
   "metadata": {
    "collapsed": true
   },
   "outputs": [],
   "source": []
  }
 ],
 "metadata": {
  "kernelspec": {
   "display_name": "Python 3",
   "language": "python",
   "name": "python3"
  },
  "language_info": {
   "codemirror_mode": {
    "name": "ipython",
    "version": 3
   },
   "file_extension": ".py",
   "mimetype": "text/x-python",
   "name": "python",
   "nbconvert_exporter": "python",
   "pygments_lexer": "ipython3",
   "version": "3.6.1"
  }
 },
 "nbformat": 4,
 "nbformat_minor": 2
}
