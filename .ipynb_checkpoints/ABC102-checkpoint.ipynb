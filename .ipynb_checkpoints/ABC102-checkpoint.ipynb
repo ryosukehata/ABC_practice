{
 "cells": [
  {
   "cell_type": "markdown",
   "metadata": {},
   "source": [
    "### A問題"
   ]
  },
  {
   "cell_type": "code",
   "execution_count": 5,
   "metadata": {},
   "outputs": [
    {
     "name": "stdout",
     "output_type": "stream",
     "text": [
      "200\n",
      "200\n"
     ]
    }
   ],
   "source": [
    "N = int(input())\n",
    "print(N if N%2 == 0 else N*2)"
   ]
  },
  {
   "cell_type": "markdown",
   "metadata": {},
   "source": [
    "### B問題"
   ]
  },
  {
   "cell_type": "code",
   "execution_count": 8,
   "metadata": {},
   "outputs": [
    {
     "name": "stdout",
     "output_type": "stream",
     "text": [
      "2\n",
      "10 40 50 60\n",
      "50\n"
     ]
    }
   ],
   "source": [
    "N = int(input())\n",
    "A = list(map(int, input().split()))\n",
    "print(abs(max(A)-min(A)))"
   ]
  },
  {
   "cell_type": "markdown",
   "metadata": {},
   "source": [
    "### C問題"
   ]
  },
  {
   "cell_type": "markdown",
   "metadata": {},
   "source": [
    "わからなかったので，解説を読んだ。<br>\n",
    "\n",
    "#### 解説\n",
    "Bi = Ai − i と定義すれば、問題は、自由に整数 b を選び、abs(Bi − b) の総和を最小化する問 題です。ここで、b を Bi の中央値にするのが最適であることがわかります。中央値でない場合は、 中央値に近づけることで損をしないことからこれはわかります。よって、Bi をソートして中央値 を求め、実際に答えを計算すればよいです。ソートがボトルネックとなり、この問題は O(N logN ) で解けます。<br>\n",
    "\n",
    "\n",
    "このことから，中央値を求めればよいので，以下のようなコードを実装する。"
   ]
  },
  {
   "cell_type": "code",
   "execution_count": 54,
   "metadata": {},
   "outputs": [
    {
     "name": "stdout",
     "output_type": "stream",
     "text": [
      "9\n",
      "1 2 3 4 5 6 7 8 9\n",
      "[0, 0, 0, 0, 0, 0, 0, 0, 0]\n",
      "4 0\n",
      "0\n"
     ]
    }
   ],
   "source": [
    "N = int(input())\n",
    "A = list(map(int, input().split()))\n",
    "\n",
    "for i in range(N):\n",
    "    A[i] -= i+1\n",
    "\n",
    "A.sort()\n",
    "median = A[N//2]\n",
    "\n",
    "for i in range(N):\n",
    "    A[i] -= median\n",
    "    A[i] = abs(A[i])\n",
    "print(sum(A))"
   ]
  },
  {
   "cell_type": "markdown",
   "metadata": {},
   "source": [
    "で，とりあえず解けた。"
   ]
  },
  {
   "cell_type": "markdown",
   "metadata": {},
   "source": [
    "高速に解いているコードをフォローする。\n",
    "最速のコードは，<br>\n",
    "https://abc102.contest.atcoder.jp/submissions/2778856<br>\n",
    "だったので，解読する。"
   ]
  },
  {
   "cell_type": "code",
   "execution_count": null,
   "metadata": {
    "collapsed": true
   },
   "outputs": [],
   "source": [
    "N = int(input())\n",
    "An = list(map(int, input().split()))\n",
    "\n",
    "for n in range(N):\n",
    "    An[n] -= (n+1)\n",
    "\n",
    "An.sort()\n",
    "\n",
    "if (N-1) % 2 != 0:\n",
    "    m = N//2 - 1\n",
    "else:\n",
    "    m = (N-1)//2\n",
    "\n",
    "# ここのbfは，中央値よりも小さい値の和を出している。\n",
    "# そのため，合計値の和の負の値とその数☓中央値を出している。\n",
    "bf = -sum(An[0:m+1:]) + (m+1)*An[m]\n",
    "\n",
    "# ここのafは，中央値よりも大きな値の和を出している。\n",
    "# その逆。\n",
    "af = sum(An[m+1::]) - (N-m-1)*An[m]\n",
    "ans = bf + af\n",
    "print(ans)"
   ]
  },
  {
   "cell_type": "markdown",
   "metadata": {},
   "source": [
    "```\n",
    "for i in range(N):\n",
    "    A[i] -= i+1\n",
    "A.sort()\n",
    "```\n",
    "と\n",
    "\n",
    "```\n",
    "for i in range(N):\n",
    "    A[i] -= median\n",
    "    A[i] = abs(A[i])\n",
    "print(sum(A))\n",
    "```\n",
    "がブサイクなので方法がないか探していると，<br>\n",
    "https://abc102.contest.atcoder.jp/submissions/2783497<br>\n",
    "に一行でまとめる方法が書いてあった。\n",
    "\n",
    "```\n",
    "C = sorted (a - i for a, i in enumerate(A, 1))\n",
    "```\n",
    "\n",
    "```\n",
    "ans = sum(abs(a-median) for a in A)\n",
    "```\n",
    "と書けばよかった。改める。"
   ]
  },
  {
   "cell_type": "code",
   "execution_count": 58,
   "metadata": {
    "scrolled": true
   },
   "outputs": [
    {
     "name": "stdout",
     "output_type": "stream",
     "text": [
      "5\n",
      "2 2 3 5 5\n",
      "1 2\n",
      "2 2\n",
      "3 3\n",
      "4 5\n",
      "5 5\n",
      "[0, 0, 0, 1, 1]\n",
      "2\n"
     ]
    }
   ],
   "source": [
    "N = int(input())\n",
    "A = list(map(int, input().split()))\n",
    "\n",
    "C = sorted(a - i for i, a in enumerate(A,1))\n",
    "median = C[N//2]\n",
    "print(sum(abs(c-median) for c in C))"
   ]
  },
  {
   "cell_type": "markdown",
   "metadata": {},
   "source": [
    "これでコードが小さくなった。\n",
    "```\n",
    "for i, a in enumerate(A, 1)\n",
    "```\n",
    "は，iterateする数字，iterateするlistの順に書く。"
   ]
  },
  {
   "cell_type": "markdown",
   "metadata": {},
   "source": [
    "###  D問題\n",
    "\n",
    "全探索はしたくない。相変わらず区切る方針が不明なので，解説を読む。<br>\n",
    "予め累積和を求めておき、ある区間の和を O(1) で求められるようにしておきます。\n",
    "切り込みを入れる 3 箇所のうち、真ん中の切れ込みを 1 つ固定したとします。真ん中の切れ込み で切ったあとの 2 つの数列を L,R とします。あとは、L と R をそれぞれ 1 回ずつ切ることを考え ます。<br>\n",
    "L の切り方を考えると、切ったあとの 2 つの数列の要素の総和ができるだけ近いほうが良いこと がわかります。よって、真ん中の切れ込みを固定すると、左の切れ込みの位置を決めることが出来 ます。真ん中の切れ込みの位置が、i 番目の要素と i + 1 番目の要素の間の時、最適な左の切れ込 みの位置を F (i) とおきます。このとき、F (i) は i に関して単調増加であり、尺取り方を用ること で F (i) をすべての i に対して O(N ) で求めることが出来ます。<br>\n",
    "右の切れ込みについても、同様にして求めることが出来ます。これで、すべての真ん中の切れ込 みの位置に対して、残りの 2 つの切れ込みの位置を求めることが出来ました。あとは、実際にそれ ぞれの場合に対して答えを計算すれば、答えが求まります。<br>\n",
    "よって、O(N) でこの問題は解けました。<br>\n",
    "\n",
    "????<br>\n",
    "わからない。\n",
    "1. 累積和を求める\n",
    "2. 真ん中の切る位置を決める\n",
    "3. Lの切る位置を決める\n",
    "4. Rの切る位置を決める\n",
    "\n",
    "この真ん中の切る位置をどう決めようか？<br>\n",
    "とりあえず，[最速](https://abc102.contest.atcoder.jp/submissions/2784349)と[二番目](https://abc102.contest.atcoder.jp/submissions/2780320)に早いコードを読むと，\n",
    "```\n",
    "from itertools import accumulate\n",
    "```\n",
    "していたので，これの意味を読む。(https://docs.python.jp/3/library/itertools.html#itertools.accumulate)\n",
    "<br>\n",
    "\n",
    "このモジュールは累積和のlist objectを返してくれる。"
   ]
  },
  {
   "cell_type": "code",
   "execution_count": 86,
   "metadata": {
    "scrolled": true
   },
   "outputs": [
    {
     "name": "stdout",
     "output_type": "stream",
     "text": [
      "3\n",
      "1 2 3 4 5\n",
      "[1, 2, 3, 4, 5]\n"
     ]
    }
   ],
   "source": [
    "from itertools import accumulate\n",
    "\n",
    "N = input()\n",
    "A = list(map(int, input().split()))\n",
    "\n",
    "print(A)\n",
    "B = accumulate(A)"
   ]
  },
  {
   "cell_type": "code",
   "execution_count": 79,
   "metadata": {
    "scrolled": true
   },
   "outputs": [
    {
     "data": {
      "text/plain": [
       "<itertools.accumulate at 0x10b297e48>"
      ]
     },
     "execution_count": 79,
     "metadata": {},
     "output_type": "execute_result"
    }
   ],
   "source": [
    "B"
   ]
  },
  {
   "cell_type": "markdown",
   "metadata": {},
   "source": [
    "このままだと展開できなかったので，"
   ]
  },
  {
   "cell_type": "code",
   "execution_count": 80,
   "metadata": {},
   "outputs": [
    {
     "name": "stdout",
     "output_type": "stream",
     "text": [
      "[1, 3, 6, 10, 15]\n"
     ]
    }
   ],
   "source": [
    "B = list(accumulate(A))\n",
    "print(B)"
   ]
  },
  {
   "cell_type": "markdown",
   "metadata": {},
   "source": [
    "で展開できる。また，[二番目に早いコード](https://abc102.contest.atcoder.jp/submissions/2780320)を見ると"
   ]
  },
  {
   "cell_type": "code",
   "execution_count": 85,
   "metadata": {},
   "outputs": [
    {
     "name": "stdout",
     "output_type": "stream",
     "text": [
      "[1, 3, 6, 10, 15]\n"
     ]
    }
   ],
   "source": [
    "*sum_a, =accumulate(A)\n",
    "print(sum_a)"
   ]
  },
  {
   "cell_type": "markdown",
   "metadata": {},
   "source": [
    "のような書き方をしていた。これは何？前のアスタリスクは，list展開してくれる[もの](https://docs.python.jp/3/tutorial/controlflow.html#unpacking-argument-lists)とか[ここ](http://or1ko.hatenablog.com/entry/20080901/1220268174)とか。カンマはないとエラー返したので必要。"
   ]
  },
  {
   "cell_type": "code",
   "execution_count": 96,
   "metadata": {},
   "outputs": [
    {
     "name": "stdout",
     "output_type": "stream",
     "text": [
      "5\n",
      "3 2  4 1 2\n",
      "[3, 2, 4, 1, 2]\n",
      "[3, 5, 9, 10, 12]\n"
     ]
    }
   ],
   "source": [
    "from itertools import accumulate\n",
    "\n",
    "N = int(input())\n",
    "A = list(map(int, input().split()))\n",
    "\n",
    "print(A)\n",
    "*B, = accumulate(A)\n",
    "print(B)"
   ]
  },
  {
   "cell_type": "markdown",
   "metadata": {},
   "source": [
    "ここまでで累積和まで出せた。次にコードを写経する。"
   ]
  },
  {
   "cell_type": "code",
   "execution_count": 112,
   "metadata": {},
   "outputs": [
    {
     "name": "stdout",
     "output_type": "stream",
     "text": [
      "1\n",
      "0 5 8\n",
      "2\n",
      "2 17 19\n",
      "2\n",
      "0 9 8\n",
      "2\n",
      "2 21 19\n",
      "1\n",
      "3\n",
      "2\n"
     ]
    }
   ],
   "source": [
    "le, ri, ce, diff =0, 2, B[-1], B[-1]\n",
    "for i in range(1, N-2):\n",
    "    print(i)\n",
    "    print(le, B[i], B[le + 1] +B[le])\n",
    "    print(ri)\n",
    "    print(ri, c + B[i], B[ri + 1] +B[ri])\n",
    "    while B[i] > B[le + 1] +B[le]:\n",
    "        le += 1\n",
    "    while ce + B[i] > B[ri + 1] + B[ri]:\n",
    "        ri += 1\n",
    "    p = B[le]\n",
    "    q = B[i] - p\n",
    "    r = B[ri] - q - p\n",
    "    s = c - B[ri]\n",
    "    diff = min(diff, max(p, q, r, s) - min(p, q, r, s))\n",
    "    \n",
    "print(diff)"
   ]
  },
  {
   "cell_type": "markdown",
   "metadata": {},
   "source": [
    "1. 真ん中の切れ込みを動かす。\n",
    "2. 真ん中の切れ込みに対して，左側の切れ込みが動いていく。このとき，真ん中の切れ込みよりも大きくならないようになっている。次の値がそれまでの累積和に比べて異常に大きいならその位置から動かない。\n",
    "3. 真ん中の切れ込みに対して，右側の切れ込みも動かす。このとき，累積和の最大値に近づくように計算を行っていく。上と似たような感じ。\n",
    "4. p, q, r,s を計算する。\n",
    "5. 前回の結果と，今回の差分の結果の小さい方を保存する\n",
    "\n",
    "これは自分ではかけなさそうだけど，[しゃくとり法](https://qiita.com/drken/items/ecd1a472d3a0e7db8dce)というアルゴリズムについて学べてよかった。"
   ]
  },
  {
   "cell_type": "code",
   "execution_count": null,
   "metadata": {
    "collapsed": true
   },
   "outputs": [],
   "source": []
  }
 ],
 "metadata": {
  "kernelspec": {
   "display_name": "Python 3",
   "language": "python",
   "name": "python3"
  },
  "language_info": {
   "codemirror_mode": {
    "name": "ipython",
    "version": 3
   },
   "file_extension": ".py",
   "mimetype": "text/x-python",
   "name": "python",
   "nbconvert_exporter": "python",
   "pygments_lexer": "ipython3",
   "version": "3.6.1"
  }
 },
 "nbformat": 4,
 "nbformat_minor": 2
}
