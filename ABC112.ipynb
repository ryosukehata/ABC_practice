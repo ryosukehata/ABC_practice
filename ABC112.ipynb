{
 "cells": [
  {
   "cell_type": "markdown",
   "metadata": {},
   "source": [
    "# A問題"
   ]
  },
  {
   "cell_type": "code",
   "execution_count": 5,
   "metadata": {},
   "outputs": [
    {
     "name": "stdout",
     "output_type": "stream",
     "text": [
      "2\n",
      "3\n",
      "4\n",
      "7\n"
     ]
    }
   ],
   "source": [
    "N = int(input())\n",
    "\n",
    "if N==1:\n",
    "    print('Hello World')\n",
    "else:\n",
    "    \n",
    "    A = int(input())\n",
    "    B = int(input())\n",
    "\n",
    "    print(A+B )"
   ]
  },
  {
   "cell_type": "markdown",
   "metadata": {},
   "source": [
    "# B問題"
   ]
  },
  {
   "cell_type": "code",
   "execution_count": 13,
   "metadata": {},
   "outputs": [
    {
     "name": "stdout",
     "output_type": "stream",
     "text": [
      "3 70\n",
      "7 60\n",
      "1 80\n",
      "4 50\n",
      "4\n"
     ]
    }
   ],
   "source": [
    "N, T = map(int, input().split())\n",
    "Ci = []\n",
    "for i in range(N):\n",
    "    c, t = map(int, input().split())\n",
    "    if t <= T:\n",
    "        Ci.append(c)\n",
    "        \n",
    "if Ci == []:\n",
    "    print('TLE')\n",
    "else:\n",
    "    Ci.sort()\n",
    "    print(Ci[0])"
   ]
  },
  {
   "cell_type": "code",
   "execution_count": 10,
   "metadata": {},
   "outputs": [
    {
     "name": "stdout",
     "output_type": "stream",
     "text": [
      "Yes\n",
      "Yes\n"
     ]
    }
   ],
   "source": [
    "Ci=[]\n",
    "\n",
    "if Ci==[]:\n",
    "    print('Yes')\n",
    "\n",
    "Ci.append(5)\n",
    "if Ci !=[]:\n",
    "    print('Yes')\n",
    "\n"
   ]
  },
  {
   "cell_type": "markdown",
   "metadata": {},
   "source": [
    "# C問題"
   ]
  },
  {
   "cell_type": "code",
   "execution_count": 24,
   "metadata": {},
   "outputs": [
    {
     "name": "stdout",
     "output_type": "stream",
     "text": [
      "3\n",
      "99 1 191\n",
      "100 1 192\n",
      "99 0 192\n",
      "1\n"
     ]
    }
   ],
   "source": [
    "N =int(input())\n",
    "X, Y, H = map(int, input().split())\n",
    "for i in range(N-1):\n",
    "    x, y, h = map(int, input().split())\n",
    "    dif_x, dif_y, dif_h = X-x, Y-y, H-h\n",
    "    if abs(dif_x) + abs(dif_y) == abs(dif_h):\n",
    "        if h > H:\n",
    "            X, Y, H = x, y, h\n",
    "    else:\n",
    "        print(max(abs(dif_x), abs(dif_y)))"
   ]
  },
  {
   "cell_type": "code",
   "execution_count": 22,
   "metadata": {},
   "outputs": [
    {
     "data": {
      "text/plain": [
       "100"
      ]
     },
     "execution_count": 22,
     "metadata": {},
     "output_type": "execute_result"
    }
   ],
   "source": [
    "H"
   ]
  },
  {
   "cell_type": "code",
   "execution_count": null,
   "metadata": {},
   "outputs": [],
   "source": []
  }
 ],
 "metadata": {
  "kernelspec": {
   "display_name": "Python 3",
   "language": "python",
   "name": "python3"
  },
  "language_info": {
   "codemirror_mode": {
    "name": "ipython",
    "version": 3
   },
   "file_extension": ".py",
   "mimetype": "text/x-python",
   "name": "python",
   "nbconvert_exporter": "python",
   "pygments_lexer": "ipython3",
   "version": "3.6.6"
  }
 },
 "nbformat": 4,
 "nbformat_minor": 2
}
