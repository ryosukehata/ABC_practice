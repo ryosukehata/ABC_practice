{
 "cells": [
  {
   "cell_type": "markdown",
   "metadata": {},
   "source": [
    "### A問題"
   ]
  },
  {
   "cell_type": "code",
   "execution_count": 3,
   "metadata": {},
   "outputs": [
    {
     "name": "stdout",
     "output_type": "stream",
     "text": [
      "10 6\n",
      ":(\n"
     ]
    }
   ],
   "source": [
    "a,b = map(int, input().split())\n",
    "print('Yay!' if max(a, b) <= 8 else ':(')"
   ]
  },
  {
   "cell_type": "markdown",
   "metadata": {},
   "source": [
    "### B問題"
   ]
  },
  {
   "cell_type": "code",
   "execution_count": 24,
   "metadata": {},
   "outputs": [
    {
     "name": "stdout",
     "output_type": "stream",
     "text": [
      "2 100\n",
      "1000000\n"
     ]
    }
   ],
   "source": [
    "a,b =map(int,input().split())\n",
    "\n",
    "if a == 0:\n",
    "    print(b)\n",
    "elif a == 1:\n",
    "    print(b*100**1)\n",
    "elif a == 2:\n",
    "    print(b*100**2)\n",
    "else:\n",
    "    pass\n",
    "    "
   ]
  },
  {
   "cell_type": "code",
   "execution_count": 26,
   "metadata": {},
   "outputs": [
    {
     "name": "stdout",
     "output_type": "stream",
     "text": [
      "1 100\n",
      "10100\n"
     ]
    }
   ],
   "source": [
    "a,b =map(int,input().split())\n",
    "if b==100:\n",
    "    print((b+1)*100**a)\n",
    "else:\n",
    "    print(b*100**a)"
   ]
  },
  {
   "cell_type": "markdown",
   "metadata": {},
   "source": [
    "### C問題"
   ]
  },
  {
   "cell_type": "code",
   "execution_count": 7,
   "metadata": {},
   "outputs": [
    {
     "name": "stdout",
     "output_type": "stream",
     "text": [
      "10\n",
      "1 2 3 4 5 6 7 8 9 10\n"
     ]
    }
   ],
   "source": [
    "N = int(input())\n",
    "A = list(map(int,input().split()))"
   ]
  },
  {
   "cell_type": "code",
   "execution_count": 12,
   "metadata": {},
   "outputs": [
    {
     "name": "stdout",
     "output_type": "stream",
     "text": [
      "8\n"
     ]
    }
   ],
   "source": [
    "def cout(num, d):\n",
    "    if num%2==0:\n",
    "        return d+1\n",
    "    else:\n",
    "        return d\n",
    "count=0\n",
    "\n",
    "N = int(input())\n",
    "A = list(map(int,input().split()))\n",
    "\n",
    "for i in A:\n",
    "\n",
    "    j = i\n",
    "    while j%2==0:\n",
    "        count = cout(j,count)\n",
    "        j=j/2\n",
    "\n",
    "print(count)\n"
   ]
  },
  {
   "cell_type": "markdown",
   "metadata": {},
   "source": [
    "最速コードを真似する。"
   ]
  },
  {
   "cell_type": "code",
   "execution_count": 34,
   "metadata": {},
   "outputs": [
    {
     "name": "stdout",
     "output_type": "stream",
     "text": [
      "1\n",
      "10 40 30 20 15\n",
      "7\n"
     ]
    }
   ],
   "source": [
    "input()\n",
    "print(sum(bin(x)[::-1].index('1')for x in map(int,input().split())))"
   ]
  },
  {
   "cell_type": "markdown",
   "metadata": {},
   "source": [
    "上の\"input()\"は必要ない数字を落とす。<br>\n",
    "下の部分で偶数の数をカウントしている。"
   ]
  },
  {
   "cell_type": "code",
   "execution_count": 33,
   "metadata": {
    "collapsed": true
   },
   "outputs": [
    {
     "name": "stdout",
     "output_type": "stream",
     "text": [
      "0b10000 2\n",
      "00001b0 4\n",
      "0 0b0\n",
      "1 0b1\n",
      "2 0b10\n",
      "3 0b11\n",
      "4 0b100\n",
      "5 0b101\n",
      "6 0b110\n",
      "7 0b111\n",
      "8 0b1000\n",
      "9 0b1001\n",
      "10 0b1010\n",
      "11 0b1011\n",
      "12 0b1100\n",
      "13 0b1101\n",
      "14 0b1110\n",
      "15 0b1111\n",
      "16 0b10000\n",
      "17 0b10001\n",
      "18 0b10010\n",
      "19 0b10011\n",
      "20 0b10100\n",
      "21 0b10101\n",
      "22 0b10110\n",
      "23 0b10111\n",
      "24 0b11000\n",
      "25 0b11001\n",
      "26 0b11010\n",
      "27 0b11011\n",
      "28 0b11100\n",
      "29 0b11101\n",
      "30 0b11110\n",
      "31 0b11111\n",
      "32 0b100000\n",
      "33 0b100001\n",
      "34 0b100010\n",
      "35 0b100011\n",
      "36 0b100100\n",
      "37 0b100101\n",
      "38 0b100110\n",
      "39 0b100111\n",
      "40 0b101000\n",
      "41 0b101001\n",
      "42 0b101010\n",
      "43 0b101011\n",
      "44 0b101100\n",
      "45 0b101101\n",
      "46 0b101110\n",
      "47 0b101111\n",
      "48 0b110000\n",
      "49 0b110001\n",
      "50 0b110010\n",
      "51 0b110011\n",
      "52 0b110100\n",
      "53 0b110101\n",
      "54 0b110110\n",
      "55 0b110111\n",
      "56 0b111000\n",
      "57 0b111001\n",
      "58 0b111010\n",
      "59 0b111011\n",
      "60 0b111100\n",
      "61 0b111101\n",
      "62 0b111110\n",
      "63 0b111111\n",
      "64 0b1000000\n",
      "65 0b1000001\n",
      "66 0b1000010\n",
      "67 0b1000011\n",
      "68 0b1000100\n",
      "69 0b1000101\n",
      "70 0b1000110\n",
      "71 0b1000111\n",
      "72 0b1001000\n",
      "73 0b1001001\n",
      "74 0b1001010\n",
      "75 0b1001011\n",
      "76 0b1001100\n",
      "77 0b1001101\n",
      "78 0b1001110\n",
      "79 0b1001111\n",
      "80 0b1010000\n",
      "81 0b1010001\n",
      "82 0b1010010\n",
      "83 0b1010011\n",
      "84 0b1010100\n",
      "85 0b1010101\n",
      "86 0b1010110\n",
      "87 0b1010111\n",
      "88 0b1011000\n",
      "89 0b1011001\n",
      "90 0b1011010\n",
      "91 0b1011011\n",
      "92 0b1011100\n",
      "93 0b1011101\n",
      "94 0b1011110\n",
      "95 0b1011111\n",
      "96 0b1100000\n",
      "97 0b1100001\n",
      "98 0b1100010\n",
      "99 0b1100011\n"
     ]
    }
   ],
   "source": [
    "#binはbite形式に変更する。\n",
    "#正準\n",
    "\n",
    "print(bin(A),bin(A).index('1'))\n",
    "#逆順にする\n",
    "print(bin(A)[::-1],bin(A)[::-1].index('1'))\n",
    "\n",
    "#逆順にしたときの1の位置で2が何個入っているのかがわかる。\n",
    "#なぜ？\n",
    "for i in range(100):\n",
    "    print(i,bin(i))\n",
    "#２進数で表すと，2の倍数の数の部分だけ入るみたい。"
   ]
  },
  {
   "cell_type": "markdown",
   "metadata": {},
   "source": [
    "これは，2進数を10進数に返還するときには次のように表されるためである。\n",
    "\\begin{align}\n",
    "(10進数)=a*2^n+a*2^{n-1}+\\cdots+a*2^{2}+a*2^{1}+a*2^{0}\n",
    "\\end{align}\n",
    "ただしa=0 or 1のである。\n",
    "\n",
    "このときn>k>0の範囲でa=0とすると，\n",
    "\\begin{align}\n",
    "(10進数)=&a*2^n+a*2^{n-1}+\\cdots+a*2^k+\\cdots+0*2^{2}+0*2^{1}+0*2^{0}\\\\\n",
    "=&2^k*(a*2^{(n-k)}+a*2^{(n-1-k)}+\\cdots+a*2^0)\n",
    "\\end{align}\n",
    "とかけるので，これは$2^k$の倍数となる。"
   ]
  },
  {
   "cell_type": "markdown",
   "metadata": {},
   "source": [
    "### D問題"
   ]
  },
  {
   "cell_type": "markdown",
   "metadata": {
    "collapsed": true
   },
   "source": [
    "方針すら謎。<br>\n",
    "回答を読んでも方針はわかったが，実装の仕方がわからなかたので最速コードをコピーする。"
   ]
  },
  {
   "cell_type": "code",
   "execution_count": null,
   "metadata": {
    "collapsed": true
   },
   "outputs": [],
   "source": [
    "# https://abc100.contest.atcoder.jp/submissions/2683381\n",
    "# moirさん\n",
    "n,m = map(int, input().split())\n",
    "ppp = []\n",
    "ppm = []\n",
    "pmp = []\n",
    "mpp = []\n",
    "\n",
    "for _ in range(n):\n",
    "    x,y,z = map(int, input().split())\n",
    "    ppp.append(x+y+z)\n",
    "    ppm.append(x+y-z)\n",
    "    pmp.append(x-y+z)\n",
    "    mpp.append(-x+y+z)\n",
    "else:\n",
    "    p0 = abs(sum(sorted(ppp)[:m]))\n",
    "    p1 = abs(sum(sorted(ppm)[:m]))\n",
    "    p2 = abs(sum(sorted(pmp)[:m]))\n",
    "    p3 = abs(sum(sorted(mpp)[:m]))\n",
    "    p4 = sum(sorted(ppp,reverse=True)[:m])\n",
    "    p5 = sum(sorted(ppm,reverse=True)[:m])\n",
    "    p6 = sum(sorted(pmp,reverse=True)[:m])\n",
    "    p7 = sum(sorted(mpp,reverse=True)[:m])\n",
    "    print(max(p0,p1,p2,p3,p4,p5,p6,p7))"
   ]
  },
  {
   "cell_type": "markdown",
   "metadata": {},
   "source": [
    "ppp:plus plus plus<br>\n",
    "ppm:plus plus minus<br>\n",
    "pmp:plus minus plus<br>\n",
    "mpp:minus plus plus<br>\n",
    "\n",
    "という定義のようだ。対称性からこの4つでいいらしい。（atcoderの解説では，8つの全探索）<br>\n",
    "そこからp0~p3で，値の小さい方から(マイナス方向から)sortして，m番目までの値を出す。<br>\n",
    "reverseをいれることで大きい方からsortして，m番目までの値を出す。<br>\n",
    "\n",
    "それらの合計値の最大値を出すことで，今回求める値が現れる。\n"
   ]
  },
  {
   "cell_type": "markdown",
   "metadata": {},
   "source": [
    "#### sortedのテスト"
   ]
  },
  {
   "cell_type": "code",
   "execution_count": 1,
   "metadata": {},
   "outputs": [
    {
     "name": "stdout",
     "output_type": "stream",
     "text": [
      "[1, 5, 10, 2, 4]\n"
     ]
    }
   ],
   "source": [
    "abc=[1,5,10,2,4]\n",
    "print(abc)"
   ]
  },
  {
   "cell_type": "code",
   "execution_count": 5,
   "metadata": {},
   "outputs": [
    {
     "name": "stdout",
     "output_type": "stream",
     "text": [
      "[1, 2]\n"
     ]
    }
   ],
   "source": [
    "print(sorted(abc)[:2])"
   ]
  },
  {
   "cell_type": "code",
   "execution_count": 6,
   "metadata": {},
   "outputs": [
    {
     "name": "stdout",
     "output_type": "stream",
     "text": [
      "[10, 5]\n"
     ]
    }
   ],
   "source": [
    "print(sorted(abc, reverse=True)[:2])"
   ]
  },
  {
   "cell_type": "code",
   "execution_count": null,
   "metadata": {
    "collapsed": true
   },
   "outputs": [],
   "source": []
  }
 ],
 "metadata": {
  "kernelspec": {
   "display_name": "Python 3",
   "language": "python",
   "name": "python3"
  },
  "language_info": {
   "codemirror_mode": {
    "name": "ipython",
    "version": 3
   },
   "file_extension": ".py",
   "mimetype": "text/x-python",
   "name": "python",
   "nbconvert_exporter": "python",
   "pygments_lexer": "ipython3",
   "version": "3.6.1"
  }
 },
 "nbformat": 4,
 "nbformat_minor": 2
}
