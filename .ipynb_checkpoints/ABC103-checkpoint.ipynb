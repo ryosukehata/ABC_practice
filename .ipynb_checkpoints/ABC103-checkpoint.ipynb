{
 "cells": [
  {
   "cell_type": "markdown",
   "metadata": {},
   "source": [
    "## A問題"
   ]
  },
  {
   "cell_type": "code",
   "execution_count": 1,
   "metadata": {},
   "outputs": [
    {
     "name": "stdout",
     "output_type": "stream",
     "text": [
      "1 3 70\n",
      "69\n"
     ]
    }
   ],
   "source": [
    "A = list(map(int, input().split()))\n",
    "print(max(A)-min(A))"
   ]
  },
  {
   "cell_type": "markdown",
   "metadata": {},
   "source": [
    "## B問題"
   ]
  },
  {
   "cell_type": "markdown",
   "metadata": {},
   "source": [
    "こういう文字列の問題が苦手だということがわかった。"
   ]
  },
  {
   "cell_type": "code",
   "execution_count": 4,
   "metadata": {},
   "outputs": [
    {
     "name": "stdout",
     "output_type": "stream",
     "text": [
      "abcdef\n"
     ]
    }
   ],
   "source": [
    "s = input()\n",
    "t = input()\n",
    "\n",
    "for _ in range(len(s)):\n",
    "    if s == t:\n",
    "        print('Yes')\n",
    "        exit()\n",
    "    s = s[-1]+s[:-1]\n",
    "print('No')\n"
   ]
  },
  {
   "cell_type": "markdown",
   "metadata": {},
   "source": [
    "## C問題"
   ]
  },
  {
   "cell_type": "markdown",
   "metadata": {},
   "source": [
    "解説をよんで把握。納得した。実装は瞬殺"
   ]
  },
  {
   "cell_type": "code",
   "execution_count": 6,
   "metadata": {},
   "outputs": [
    {
     "name": "stdout",
     "output_type": "stream",
     "text": [
      "5\n",
      "3 5 7\n",
      "12\n"
     ]
    }
   ],
   "source": [
    "N = int(input())\n",
    "A = list(map(int, input().split()))\n",
    "\n",
    "f = 0\n",
    "for a in A:\n",
    "    f += a-1\n",
    "print(f)"
   ]
  },
  {
   "cell_type": "markdown",
   "metadata": {},
   "source": [
    "## D問題"
   ]
  },
  {
   "cell_type": "markdown",
   "metadata": {},
   "source": [
    "方針が不明だったので，解説を読んだ。<br>\n",
    "(a,b)のセットをbについて昇順にsortする<br>\n",
    "↓<br>\n",
    "一番値の小さなb_1-1の橋を見つけ，次のループに進む<br>\n",
    "↓<br>\n",
    "次のa_{i}がその時点での最小のb-1よりも<br>\n",
    "小さければ，次のa_{i+1}へ<br>\n",
    "大きければ，橋の位置をb_{i}-1に変更，bridgeの数を1増加して次のa_{i+1}へ進む<br>\n",
    "\n",
    "あとはループして最後までbridgeの数をカウントして答えをだす<br>"
   ]
  },
  {
   "cell_type": "code",
   "execution_count": 27,
   "metadata": {},
   "outputs": [
    {
     "name": "stdout",
     "output_type": "stream",
     "text": [
      "5 10 \n",
      "1 2\n",
      " 1 3 \n",
      "1 4 \n",
      "1 5 \n",
      "2 3 \n",
      "2 4 \n",
      "2 5 \n",
      "3 4 \n",
      "3 5 \n",
      "4 5\n",
      "[(1, 2), (1, 3), (1, 4), (1, 5), (2, 3), (2, 4), (2, 5), (3, 4), (3, 5), (4, 5)]\n",
      "[(1, 2), (1, 3), (2, 3), (1, 4), (2, 4), (3, 4), (1, 5), (2, 5), (3, 5), (4, 5)]\n",
      "1 2\n",
      "1 3\n",
      "2 3\n",
      "1 4\n",
      "2 4\n",
      "3 4\n",
      "1 5\n",
      "2 5\n",
      "3 5\n",
      "4 5\n",
      "4\n"
     ]
    }
   ],
   "source": [
    "n, m = map(int, input().split())\n",
    "village = [tuple(map(int, input().split())) for _ in range(m)]\n",
    "village = sorted(village, key=lambda x:x[1])\n",
    "\n",
    "right_bridge,sum_bridge = 0,0\n",
    "for a, b in village:\n",
    "    if right_bridge<a:\n",
    "        right_bridge=b-1\n",
    "        sum_bridge+=1\n",
    "        \n",
    "print(sum_bridge)\n"
   ]
  },
  {
   "cell_type": "markdown",
   "metadata": {},
   "source": [
    "ここで勉強になったのは，tupleをlist内に次々追加していくやり方で，\n",
    "```\n",
    "village = [tuple(map(int, input().split())) for _ in range(m)]\n",
    "```\n",
    "と書けばよいことがわかった。あとtupleの二つ目でsortしたかったので\n",
    "```\n",
    "village = sorted(village, key=lambda x:x[1])\n",
    "```\n",
    "と書けばよい。\n",
    "\n",
    "参考：https://beta.atcoder.jp/contests/abc103/submissions/2906955"
   ]
  },
  {
   "cell_type": "code",
   "execution_count": null,
   "metadata": {
    "collapsed": true
   },
   "outputs": [],
   "source": []
  }
 ],
 "metadata": {
  "kernelspec": {
   "display_name": "Python 3",
   "language": "python",
   "name": "python3"
  },
  "language_info": {
   "codemirror_mode": {
    "name": "ipython",
    "version": 3
   },
   "file_extension": ".py",
   "mimetype": "text/x-python",
   "name": "python",
   "nbconvert_exporter": "python",
   "pygments_lexer": "ipython3",
   "version": "3.6.1"
  }
 },
 "nbformat": 4,
 "nbformat_minor": 2
}
