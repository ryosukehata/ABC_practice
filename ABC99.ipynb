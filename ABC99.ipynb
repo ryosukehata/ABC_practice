{
 "cells": [
  {
   "cell_type": "markdown",
   "metadata": {},
   "source": [
    "### A問題"
   ]
  },
  {
   "cell_type": "code",
   "execution_count": 4,
   "metadata": {},
   "outputs": [
    {
     "name": "stdout",
     "output_type": "stream",
     "text": [
      "999\n",
      "ABC\n"
     ]
    }
   ],
   "source": [
    "a=int(input())\n",
    "print(\"ABC\" if a <= 999 else \"ABD\")"
   ]
  },
  {
   "cell_type": "markdown",
   "metadata": {},
   "source": [
    "### B問題"
   ]
  },
  {
   "cell_type": "code",
   "execution_count": 9,
   "metadata": {},
   "outputs": [
    {
     "name": "stdout",
     "output_type": "stream",
     "text": [
      "54 65\n",
      "1\n"
     ]
    }
   ],
   "source": [
    "a, b =map(int, input().split())\n",
    "snow = (b-a)*(b-a+1)/2 - b\n",
    "print(int(snow))"
   ]
  },
  {
   "cell_type": "markdown",
   "metadata": {},
   "source": [
    "### C問題"
   ]
  },
  {
   "cell_type": "code",
   "execution_count": null,
   "metadata": {
    "collapsed": true
   },
   "outputs": [],
   "source": [
    "import itertools import count, takewhile\n",
    "\n",
    "def Cal(n, d={}):\n",
    "    if n < 6:\n",
    "        retrun n\n",
    "    if n in d:\n",
    "        return d[n]\n",
    "    max9 = max(takewhile(lambda x: x<=n, (9**i for i in count())))\n",
    "    max6 = max(takewhile(lambda x: x<=n, (6**i for i in count())))\n",
    "    d[n] = min(Cal(n-max9), Cal(n-max6))+1\n",
    "    return d[n]\n",
    "\n",
    "print(Cal(int(input())))"
   ]
  },
  {
   "cell_type": "markdown",
   "metadata": {},
   "source": [
    "コピペ，提出は保留"
   ]
  },
  {
   "cell_type": "code",
   "execution_count": null,
   "metadata": {
    "collapsed": true
   },
   "outputs": [],
   "source": []
  }
 ],
 "metadata": {
  "kernelspec": {
   "display_name": "Python 3",
   "language": "python",
   "name": "python3"
  },
  "language_info": {
   "codemirror_mode": {
    "name": "ipython",
    "version": 3
   },
   "file_extension": ".py",
   "mimetype": "text/x-python",
   "name": "python",
   "nbconvert_exporter": "python",
   "pygments_lexer": "ipython3",
   "version": "3.6.1"
  }
 },
 "nbformat": 4,
 "nbformat_minor": 2
}
