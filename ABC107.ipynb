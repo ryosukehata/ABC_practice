{
 "cells": [
  {
   "cell_type": "markdown",
   "metadata": {},
   "source": [
    "# A問題"
   ]
  },
  {
   "cell_type": "code",
   "execution_count": 5,
   "metadata": {},
   "outputs": [
    {
     "name": "stdout",
     "output_type": "stream",
     "text": [
      "8 7\n",
      "2\n"
     ]
    }
   ],
   "source": [
    "N, i = map(int, input().split())\n",
    "print(N+1-i)"
   ]
  },
  {
   "cell_type": "code",
   "execution_count": null,
   "metadata": {
    "collapsed": true
   },
   "outputs": [],
   "source": [
    "4 4\n",
    "##.#\n",
    "....\n",
    "##.#\n",
    ".#.#"
   ]
  },
  {
   "cell_type": "markdown",
   "metadata": {},
   "source": [
    "# B問題"
   ]
  },
  {
   "cell_type": "code",
   "execution_count": 150,
   "metadata": {
    "scrolled": false
   },
   "outputs": [
    {
     "name": "stdout",
     "output_type": "stream",
     "text": [
      "7 6\n",
      "......  \n",
      "....#.  \n",
      ".#....  \n",
      "..#...  \n",
      "..#...  \n",
      "......  \n",
      ".#..#.\n",
      "[['.', '.', '.', '.', '#', '.', ' ', ' '], ['.', '#', '.', '.', '.', '.', ' ', ' '], ['.', '.', '#', '.', '.', '.', ' ', ' '], ['.', '.', '#', '.', '.', '.', ' ', ' '], ['.', '#', '.', '.', '#', '.']]\n",
      "[['.', '.', '.', '.', '.'], ['.', '#', '.', '.', '#'], ['.', '.', '#', '#', '.'], ['.', '.', '.', '.', '.'], ['#', '.', '.', '.', '#'], ['.', '.', '.', '.', '.']]\n",
      "0 ['.', '.', '.', '.', '.']\n",
      "1 ['.', '#', '.', '.', '#']\n",
      "2 ['.', '.', '#', '#', '.']\n",
      "3 ['.', '.', '.', '.', '.']\n",
      "4 ['#', '.', '.', '.', '#']\n",
      "5 ['.', '.', '.', '.', '.']\n",
      "[0, 3, 5]\n",
      "[5, 3, 0]\n",
      "..#\n",
      "#..\n",
      ".#.\n",
      ".#.\n",
      "#.#\n"
     ]
    }
   ],
   "source": [
    "H, W = map(int, input().split())\n",
    "arr = []\n",
    "count=0\n",
    "for j in range(H):\n",
    "    a=list(input())\n",
    "    if '#' in a:\n",
    "        arr.append(a)\n",
    "    else:\n",
    "        count=count+1\n",
    "        pass\n",
    "\n",
    "#print(arr)\n",
    "arr=list(map(list, zip(*arr)))\n",
    "#print(arr)\n",
    "num=[]\n",
    "for j in range(W):\n",
    "#    print(j, arr[j])\n",
    "    if '#' in arr[j]:\n",
    "        pass\n",
    "    else:\n",
    "        num.append(j)  \n",
    "\n",
    "#print(num)\n",
    "num.reverse()\n",
    "#print(num)\n",
    "\n",
    "for i in num:\n",
    "    del arr[i]\n",
    "arr=list(map(list, zip(*arr)))\n",
    "\n",
    "for i in range(H-count):\n",
    "    print(\"\".join(arr[i]))"
   ]
  },
  {
   "cell_type": "code",
   "execution_count": null,
   "metadata": {
    "collapsed": true
   },
   "outputs": [],
   "source": [
    "7 6\n",
    "...... \n",
    "....#. \n",
    ".#.... \n",
    "..#... \n",
    "..#... \n",
    "...... \n",
    ".#..#."
   ]
  },
  {
   "cell_type": "markdown",
   "metadata": {},
   "source": [
    "j"
   ]
  },
  {
   "cell_type": "code",
   "execution_count": 148,
   "metadata": {},
   "outputs": [
    {
     "data": {
      "text/plain": [
       "4"
      ]
     },
     "execution_count": 148,
     "metadata": {},
     "output_type": "execute_result"
    }
   ],
   "source": [
    "H-len(num)"
   ]
  },
  {
   "cell_type": "code",
   "execution_count": 125,
   "metadata": {},
   "outputs": [
    {
     "data": {
      "text/plain": [
       "[['#']]"
      ]
     },
     "execution_count": 125,
     "metadata": {},
     "output_type": "execute_result"
    }
   ],
   "source": [
    "arr"
   ]
  },
  {
   "cell_type": "code",
   "execution_count": 96,
   "metadata": {},
   "outputs": [
    {
     "data": {
      "text/plain": [
       "[['.', '#', '.'], ['#', '#', '.']]"
      ]
     },
     "execution_count": 96,
     "metadata": {},
     "output_type": "execute_result"
    }
   ],
   "source": [
    "arr"
   ]
  },
  {
   "cell_type": "markdown",
   "metadata": {},
   "source": [
    "# C問題"
   ]
  },
  {
   "cell_type": "code",
   "execution_count": 179,
   "metadata": {},
   "outputs": [
    {
     "name": "stdout",
     "output_type": "stream",
     "text": [
      "1 1\n",
      "0\n",
      "0\n"
     ]
    }
   ],
   "source": [
    "N, K = map(int, input().split())\n",
    "x=list(map(int,input().split()))\n",
    "\n",
    "x_abs=list(map(abs, x))\n",
    "x_abs.sort()\n",
    "maximum_num =x_abs[K-1]\n",
    "#print(x)\n",
    "#print(maximum_num)\n",
    "x_max=[i for i in x if i <= maximum_num]\n",
    "x=[i for i in x_max if i > -maximum_num]\n",
    "\n",
    "if min(x)<0 and max(x)>0:\n",
    "    print(abs(min(x))*2+max(x))\n",
    "elif min(x)<0 and max(x)<0:\n",
    "    print(abs(min(x)))\n",
    "else:\n",
    "    print(max(x))"
   ]
  },
  {
   "cell_type": "code",
   "execution_count": 160,
   "metadata": {},
   "outputs": [
    {
     "name": "stdout",
     "output_type": "stream",
     "text": [
      "[-5, -4, -3, -2, -1, 0, 1, 2, 3, 4, 5]\n",
      "[-5, -4, -3, -2, -1]\n"
     ]
    }
   ],
   "source": [
    "l = list(range(-5, 6))\n",
    "print(l)\n",
    "# [-5, -4, -3, -2, -1, 0, 1, 2, 3, 4, 5]\n",
    "l_minus = [i for i in l if i < 0]\n",
    "print(l_minus)"
   ]
  },
  {
   "cell_type": "code",
   "execution_count": null,
   "metadata": {
    "collapsed": true
   },
   "outputs": [],
   "source": []
  }
 ],
 "metadata": {
  "kernelspec": {
   "display_name": "Python 3",
   "language": "python",
   "name": "python3"
  },
  "language_info": {
   "codemirror_mode": {
    "name": "ipython",
    "version": 3
   },
   "file_extension": ".py",
   "mimetype": "text/x-python",
   "name": "python",
   "nbconvert_exporter": "python",
   "pygments_lexer": "ipython3",
   "version": "3.6.1"
  }
 },
 "nbformat": 4,
 "nbformat_minor": 2
}
